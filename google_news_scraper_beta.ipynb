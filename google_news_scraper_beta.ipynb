{
 "cells": [
  {
   "cell_type": "code",
   "execution_count": 1,
   "metadata": {},
   "outputs": [],
   "source": [
    "import requests\n",
    "from bs4 import BeautifulSoup\n",
    "import pandas as pd\n",
    "import time"
   ]
  },
  {
   "cell_type": "code",
   "execution_count": 3,
   "metadata": {},
   "outputs": [],
   "source": [
    "base_num=list(range(0,31))"
   ]
  },
  {
   "cell_type": "code",
   "execution_count": 4,
   "metadata": {},
   "outputs": [],
   "source": [
    "base_num = [x * 10 for x in base_num]"
   ]
  },
  {
   "cell_type": "code",
   "execution_count": 34,
   "metadata": {},
   "outputs": [],
   "source": [
    "urls=[]\n",
    "search_word=input()\n",
    "for page in base_num:\n",
    "    head = 'https://www.google.com/search?q=' + search_word + \"&tbm=nws&ei=v_p2XcGAIY6D0wTr1bWoDg&start=\"\n",
    "    num = str(page)\n",
    "    tail='&sa=N&ved=0ahUKEwiB3PTci8XkAhWOwZQKHetqDeUQ8tMDCEc&biw=949&bih=870&dpr=2'\n",
    "    source = requests.get(head+num+tail)\n",
    "    time.sleep(3)\n",
    "    \n",
    "    soup = BeautifulSoup(source.text, 'html.parser')\n",
    "\n",
    "    data = soup.findAll('a')\n",
    "\n",
    "    link=[]\n",
    "    for i in data:\n",
    "        link.append(i.get('href'))\n",
    "        news_address=[]\n",
    "    for i in link:\n",
    "        if '/url?' in str(i):\n",
    "            news_address.append(i)\n",
    "\t\t\n",
    "    final_url=[]\n",
    "    for i in news_address:\n",
    "        if i not in final_url:\n",
    "            final_url.append(i)\n",
    "\n",
    "    refined_url = [i.replace('/url?q=','') for i in final_url]\n",
    "\n",
    "    link_set=[]\n",
    "    for i in refined_url:\n",
    "        link_set.append(i.split('&sa=U&ved', 1)[0])\n",
    "\t\n",
    "    final_set=[]\n",
    "    for i in link_set:\n",
    "        if i not in final_set:\n",
    "            final_set.append(i)\n",
    "    \n",
    "    for i in final_set:\n",
    "        urls.append(i)\n",
    "\n",
    "    "
   ]
  },
  {
   "cell_type": "code",
   "execution_count": 35,
   "metadata": {},
   "outputs": [],
   "source": [
    "final_url=[]"
   ]
  },
  {
   "cell_type": "code",
   "execution_count": 36,
   "metadata": {},
   "outputs": [],
   "source": [
    "for i in urls:\n",
    "    if 'https:' in i:\n",
    "        final_url.append(i)\n",
    "    "
   ]
  },
  {
   "cell_type": "code",
   "execution_count": 37,
   "metadata": {},
   "outputs": [],
   "source": [
    "with open('urls.txt', 'a') as filehandle:\n",
    "    filehandle.writelines(\"%s\\n\" % i for i in final_url)"
   ]
  },
  {
   "cell_type": "code",
   "execution_count": 38,
   "metadata": {},
   "outputs": [
    {
     "name": "stdout",
     "output_type": "stream",
     "text": [
      "Article 0 done\n",
      "Article 1 done\n",
      "Article 2 done\n",
      "Article 3 done\n",
      "Article 4 done\n",
      "Article 5 done\n",
      "Article 6 done\n",
      "Article 7 done\n",
      "Article 8 done\n",
      "Article 9 done\n",
      "Article 10 done\n",
      "Article 11 done\n",
      "Article 12 done\n",
      "Article 13 done\n",
      "Article 14 done\n",
      "Article 15 done\n",
      "Article 16 done\n",
      "Article 17 done\n",
      "Article 18 done\n",
      "Article 19 done\n",
      "Article 20 done\n",
      "Article 21 done\n",
      "Article 22 done\n",
      "Article 23 done\n",
      "Article 24 done\n",
      "Article 25 done\n",
      "Article 26 done\n",
      "Article 27 done\n",
      "Article 28 done\n",
      "Article 29 done\n",
      "Article 30 done\n",
      "Article 31 done\n",
      "Article 32 done\n",
      "Article 33 done\n",
      "Article 34 done\n",
      "Article 35 done\n",
      "Article 36 done\n",
      "Article 37 done\n",
      "Article 38 done\n",
      "Article 39 done\n",
      "Article 40 done\n",
      "Article 41 done\n",
      "Article 42 done\n",
      "Article 43 done\n",
      "Article 44 done\n",
      "Article 45 done\n",
      "Article 46 done\n",
      "Article 47 done\n",
      "Article 48 done\n",
      "Article 49 done\n",
      "Article 50 done\n",
      "Article 51 done\n",
      "Article 52 done\n",
      "Article 53 done\n",
      "Article 54 done\n",
      "Article 55 done\n",
      "Article 56 done\n",
      "Article 57 done\n",
      "Article 58 done\n",
      "Article 59 done\n",
      "Article 60 done\n",
      "Article 61 done\n",
      "Article 62 done\n",
      "Article 63 done\n",
      "Article 64 done\n",
      "Article 65 done\n",
      "Article 66 done\n",
      "Article 67 done\n",
      "Article 68 done\n",
      "Article 69 done\n",
      "Article 70 done\n",
      "Article 71 done\n",
      "Article 72 done\n",
      "Article 73 done\n",
      "Article 74 done\n",
      "Article 75 done\n",
      "Article 76 done\n",
      "Article 77 done\n",
      "Article 78 done\n",
      "Article 79 done\n",
      "Article 80 done\n",
      "Article 81 done\n",
      "Article 82 done\n",
      "Article 83 done\n",
      "Article 84 done\n",
      "Article 85 done\n",
      "Article 86 done\n",
      "Article 87 done\n",
      "Article 88 done\n",
      "Article 89 done\n",
      "Article 90 done\n"
     ]
    }
   ],
   "source": [
    "for a in range(len(final_url)):\n",
    "    try:\n",
    "        article=[]\n",
    "        source=requests.get(final_url[a])\n",
    "        soup=BeautifulSoup(source.text, 'html.parser')\n",
    "        text=soup.findAll('p')\n",
    "        for i in text:\n",
    "            article.append(i.getText())\n",
    "        time.sleep(2)\n",
    "        with open(search_word +str(a) + '.txt','w',encoding='utf-8') as f:\n",
    "            f.writelines(\"%s\\n\" % i for i in article)\n",
    "            print('Article '+str(a)+' done')\n",
    "    except:\n",
    "        pass"
   ]
  },
  {
   "cell_type": "code",
   "execution_count": null,
   "metadata": {},
   "outputs": [],
   "source": []
  }
 ],
 "metadata": {
  "kernelspec": {
   "display_name": "Python 3",
   "language": "python",
   "name": "python3"
  },
  "language_info": {
   "codemirror_mode": {
    "name": "ipython",
    "version": 3
   },
   "file_extension": ".py",
   "mimetype": "text/x-python",
   "name": "python",
   "nbconvert_exporter": "python",
   "pygments_lexer": "ipython3",
   "version": "3.6.8"
  }
 },
 "nbformat": 4,
 "nbformat_minor": 2
}
